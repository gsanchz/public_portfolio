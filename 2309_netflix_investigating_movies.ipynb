{
 "cells": [
  {
   "cell_type": "markdown",
   "id": "80343a2b",
   "metadata": {},
   "source": [
    "# Investigating Netflix Movies"
   ]
  },
  {
   "cell_type": "code",
   "execution_count": 1,
   "id": "9315cf77",
   "metadata": {},
   "outputs": [],
   "source": [
    "# Author : gsanchz\n",
    "# Date   : 09/2023"
   ]
  },
  {
   "cell_type": "markdown",
   "id": "5962b2cd-17bb-4ec9-b2d5-68537ca26860",
   "metadata": {},
   "source": [
    "## The data\n",
    "### **netflix_data.csv**\n",
    "| Column | Description |\n",
    "|--------|-------------|\n",
    "| `show_id` | The ID of the show |\n",
    "| `type` | Type of show |\n",
    "| `title` | Title of the show |\n",
    "| `director` | Director of the show |\n",
    "| `cast` | Cast of the show |\n",
    "| `country` | Country of origin |\n",
    "| `date_added` | Date added to Netflix |\n",
    "| `release_year` | Year of Netflix release |\n",
    "| `duration` | Duration of the show in minutes |\n",
    "| `description` | Description of the show |\n",
    "| `genre` | Show genre |"
   ]
  },
  {
   "cell_type": "markdown",
   "id": "a019e946",
   "metadata": {},
   "source": [
    "# Question: Are movies getting shorter?"
   ]
  },
  {
   "cell_type": "code",
   "execution_count": 2,
   "id": "320a3abc-8a36-4b2b-baaf-473325363a4d",
   "metadata": {
    "executionCancelledAt": null,
    "executionTime": 66,
    "lastExecutedAt": 1702338558899,
    "lastScheduledRunId": null,
    "lastSuccessfullyExecutedCode": "# Importing pandas and matplotlib\nimport pandas as pd\nimport matplotlib.pyplot as plt\n\n# Start coding!\n\nnetflix_df = pd.read_csv('netflix_data.csv')"
   },
   "outputs": [],
   "source": [
    "# Importing pandas and matplotlib\n",
    "import pandas as pd\n",
    "import matplotlib.pyplot as plt\n",
    "\n",
    "# Import data as DataFrame\n",
    "\n",
    "netflix_df = pd.read_csv('./datasets/netflix_data.csv')"
   ]
  },
  {
   "cell_type": "code",
   "execution_count": 3,
   "id": "49072b09-86ec-40e8-bab4-4688ea445dc3",
   "metadata": {
    "executionCancelledAt": null,
    "executionTime": 49,
    "lastExecutedAt": 1702338558948,
    "lastScheduledRunId": null,
    "lastSuccessfullyExecutedCode": "netflix_subset = netflix_df[netflix_df['type'] != 'TV Show']"
   },
   "outputs": [],
   "source": [
    "# Discard TV Show\n",
    "netflix_subset = netflix_df[netflix_df['type'] != 'TV Show']"
   ]
  },
  {
   "cell_type": "code",
   "execution_count": 4,
   "id": "fd75dfc9-5aa5-4f17-95c0-0647c8176732",
   "metadata": {
    "executionCancelledAt": null,
    "executionTime": 48,
    "lastExecutedAt": 1702338558996,
    "lastScheduledRunId": null,
    "lastSuccessfullyExecutedCode": "netflix_movies = netflix_subset[['title','country','genre','release_year','duration']]"
   },
   "outputs": [],
   "source": [
    "# Subset columns of interest\n",
    "netflix_movies = netflix_subset[['title','country','genre','release_year','duration']]"
   ]
  },
  {
   "cell_type": "code",
   "execution_count": 5,
   "id": "d821c090-13c7-4f3e-8560-1710691f2d78",
   "metadata": {
    "chartConfig": {
     "bar": {
      "hasRoundedCorners": true,
      "stacked": false
     },
     "type": "bar",
     "version": "v1"
    },
    "executionCancelledAt": null,
    "executionTime": 72,
    "lastExecutedAt": 1702338559068,
    "lastScheduledRunId": null,
    "lastSuccessfullyExecutedCode": "short_movies = netflix_movies[netflix_movies['duration']<60]\nshort_movies",
    "outputsMetadata": {
     "0": {
      "height": 318,
      "type": "dataFrame"
     }
    },
    "visualizeDataframe": false
   },
   "outputs": [
    {
     "data": {
      "text/html": [
       "<div>\n",
       "<style scoped>\n",
       "    .dataframe tbody tr th:only-of-type {\n",
       "        vertical-align: middle;\n",
       "    }\n",
       "\n",
       "    .dataframe tbody tr th {\n",
       "        vertical-align: top;\n",
       "    }\n",
       "\n",
       "    .dataframe thead th {\n",
       "        text-align: right;\n",
       "    }\n",
       "</style>\n",
       "<table border=\"1\" class=\"dataframe\">\n",
       "  <thead>\n",
       "    <tr style=\"text-align: right;\">\n",
       "      <th></th>\n",
       "      <th>title</th>\n",
       "      <th>country</th>\n",
       "      <th>genre</th>\n",
       "      <th>release_year</th>\n",
       "      <th>duration</th>\n",
       "    </tr>\n",
       "  </thead>\n",
       "  <tbody>\n",
       "    <tr>\n",
       "      <th>35</th>\n",
       "      <td>#Rucker50</td>\n",
       "      <td>United States</td>\n",
       "      <td>Documentaries</td>\n",
       "      <td>2016</td>\n",
       "      <td>56</td>\n",
       "    </tr>\n",
       "    <tr>\n",
       "      <th>55</th>\n",
       "      <td>100 Things to do Before High School</td>\n",
       "      <td>United States</td>\n",
       "      <td>Uncategorized</td>\n",
       "      <td>2014</td>\n",
       "      <td>44</td>\n",
       "    </tr>\n",
       "    <tr>\n",
       "      <th>67</th>\n",
       "      <td>13TH: A Conversation with Oprah Winfrey &amp; Ava ...</td>\n",
       "      <td>NaN</td>\n",
       "      <td>Uncategorized</td>\n",
       "      <td>2017</td>\n",
       "      <td>37</td>\n",
       "    </tr>\n",
       "    <tr>\n",
       "      <th>101</th>\n",
       "      <td>3 Seconds Divorce</td>\n",
       "      <td>Canada</td>\n",
       "      <td>Documentaries</td>\n",
       "      <td>2018</td>\n",
       "      <td>53</td>\n",
       "    </tr>\n",
       "    <tr>\n",
       "      <th>146</th>\n",
       "      <td>A 3 Minute Hug</td>\n",
       "      <td>Mexico</td>\n",
       "      <td>Documentaries</td>\n",
       "      <td>2019</td>\n",
       "      <td>28</td>\n",
       "    </tr>\n",
       "    <tr>\n",
       "      <th>...</th>\n",
       "      <td>...</td>\n",
       "      <td>...</td>\n",
       "      <td>...</td>\n",
       "      <td>...</td>\n",
       "      <td>...</td>\n",
       "    </tr>\n",
       "    <tr>\n",
       "      <th>7679</th>\n",
       "      <td>WWII: Report from the Aleutians</td>\n",
       "      <td>United States</td>\n",
       "      <td>Documentaries</td>\n",
       "      <td>1943</td>\n",
       "      <td>45</td>\n",
       "    </tr>\n",
       "    <tr>\n",
       "      <th>7692</th>\n",
       "      <td>Ya no estoy aquí: Una conversación entre Guill...</td>\n",
       "      <td>NaN</td>\n",
       "      <td>Documentaries</td>\n",
       "      <td>2020</td>\n",
       "      <td>15</td>\n",
       "    </tr>\n",
       "    <tr>\n",
       "      <th>7718</th>\n",
       "      <td>Yoo Byung Jae: Discomfort Zone</td>\n",
       "      <td>South Korea</td>\n",
       "      <td>Stand-Up</td>\n",
       "      <td>2018</td>\n",
       "      <td>54</td>\n",
       "    </tr>\n",
       "    <tr>\n",
       "      <th>7771</th>\n",
       "      <td>Zion</td>\n",
       "      <td>United States</td>\n",
       "      <td>Documentaries</td>\n",
       "      <td>2018</td>\n",
       "      <td>12</td>\n",
       "    </tr>\n",
       "    <tr>\n",
       "      <th>7784</th>\n",
       "      <td>Zulu Man in Japan</td>\n",
       "      <td>NaN</td>\n",
       "      <td>Documentaries</td>\n",
       "      <td>2019</td>\n",
       "      <td>44</td>\n",
       "    </tr>\n",
       "  </tbody>\n",
       "</table>\n",
       "<p>420 rows × 5 columns</p>\n",
       "</div>"
      ],
      "text/plain": [
       "                                                  title        country  \\\n",
       "35                                            #Rucker50  United States   \n",
       "55                  100 Things to do Before High School  United States   \n",
       "67    13TH: A Conversation with Oprah Winfrey & Ava ...            NaN   \n",
       "101                                   3 Seconds Divorce         Canada   \n",
       "146                                      A 3 Minute Hug         Mexico   \n",
       "...                                                 ...            ...   \n",
       "7679                    WWII: Report from the Aleutians  United States   \n",
       "7692  Ya no estoy aquí: Una conversación entre Guill...            NaN   \n",
       "7718                     Yoo Byung Jae: Discomfort Zone    South Korea   \n",
       "7771                                               Zion  United States   \n",
       "7784                                  Zulu Man in Japan            NaN   \n",
       "\n",
       "              genre  release_year  duration  \n",
       "35    Documentaries          2016        56  \n",
       "55    Uncategorized          2014        44  \n",
       "67    Uncategorized          2017        37  \n",
       "101   Documentaries          2018        53  \n",
       "146   Documentaries          2019        28  \n",
       "...             ...           ...       ...  \n",
       "7679  Documentaries          1943        45  \n",
       "7692  Documentaries          2020        15  \n",
       "7718       Stand-Up          2018        54  \n",
       "7771  Documentaries          2018        12  \n",
       "7784  Documentaries          2019        44  \n",
       "\n",
       "[420 rows x 5 columns]"
      ]
     },
     "execution_count": 5,
     "metadata": {},
     "output_type": "execute_result"
    }
   ],
   "source": [
    "# Subset short movies\n",
    "short_movies = netflix_movies[netflix_movies['duration']<60]\n",
    "short_movies"
   ]
  },
  {
   "cell_type": "code",
   "execution_count": 6,
   "id": "07838ff5-9159-4b87-870e-348862dee6d4",
   "metadata": {
    "executionCancelledAt": null,
    "executionTime": 552,
    "lastExecutedAt": 1702338559621,
    "lastScheduledRunId": null,
    "lastSuccessfullyExecutedCode": "colors = []\nfor index,row in netflix_movies.iterrows():\n    if row['genre'] == 'Children':\n        colors.append('green')\n    elif row['genre'] == 'Documentaries':\n        colors.append('blue')\n    elif row['genre'] == 'Stand-Up':\n        colors.append('black')\n    else:\n        colors.append('red')\n\nfig = plt.figure()\nplt.scatter(x=netflix_movies['release_year'],y=netflix_movies['duration'],c=colors)\nplt.xlabel('Release year')\nplt.ylabel('Duration (min)')\nplt.title('Movie Duration by Year of Release')\nplt.show()"
   },
   "outputs": [
    {
     "data": {
      "image/png": "[encoded data removed]",
      "text/plain": [
       "<Figure size 432x288 with 1 Axes>"
      ]
     },
     "metadata": {
      "needs_background": "light"
     },
     "output_type": "display_data"
    }
   ],
   "source": [
    "# Create a color correspondace with each record of the dataset\n",
    "colors = []\n",
    "for index,row in netflix_movies.iterrows():\n",
    "    if row['genre'] == 'Children':\n",
    "        colors.append('green')\n",
    "    elif row['genre'] == 'Documentaries':\n",
    "        colors.append('blue')\n",
    "    elif row['genre'] == 'Stand-Up':\n",
    "        colors.append('black')\n",
    "    else:\n",
    "        colors.append('red')\n",
    "\n",
    "# Plot year-duration and 'hue' by genre choosing the color array I did\n",
    "fig = plt.figure()\n",
    "plt.scatter(x=netflix_movies['release_year'],y=netflix_movies['duration'],c=colors)\n",
    "#Rename axis and title the plot\n",
    "plt.xlabel('Release year')\n",
    "plt.ylabel('Duration (min)')\n",
    "plt.title('Movie Duration by Year of Release')\n",
    "plt.show()"
   ]
  },
  {
   "cell_type": "code",
   "execution_count": 7,
   "id": "4c5a4994-9bdc-4d90-b10b-acdc5a3b74b6",
   "metadata": {
    "executionCancelledAt": null,
    "executionTime": 55,
    "lastExecutedAt": 1702338559676,
    "lastScheduledRunId": null,
    "lastSuccessfullyExecutedCode": "answer = 'maybe'"
   },
   "outputs": [],
   "source": [
    "# Are we certain that movies are getting shorter? Not so much evidence, so maybe."
   ]
  }
 ],
 "metadata": {
  "colab": {
   "name": "Welcome to DataCamp Workspaces.ipynb",
   "provenance": []
  },
  "kernelspec": {
   "display_name": "Python 3 (ipykernel)",
   "language": "python",
   "name": "python3"
  },
  "language_info": {
   "codemirror_mode": {
    "name": "ipython",
    "version": 3
   },
   "file_extension": ".py",
   "mimetype": "text/x-python",
   "name": "python",
   "nbconvert_exporter": "python",
   "pygments_lexer": "ipython3",
   "version": "3.9.12"
  }
 },
 "nbformat": 4,
 "nbformat_minor": 5
}
