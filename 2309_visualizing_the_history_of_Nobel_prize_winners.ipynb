{
 "cells": [
  {
   "cell_type": "markdown",
   "id": "67636ae7",
   "metadata": {},
   "source": [
    "# Visualizing the history of Nobel prize winners"
   ]
  },
  {
   "cell_type": "code",
   "execution_count": 1,
   "id": "11fd5946-7bd1-495c-aa7f-ff6e7e4a350b",
   "metadata": {
    "executionCancelledAt": null,
    "executionTime": 9,
    "lastExecutedAt": 1705243394701,
    "lastScheduledRunId": null,
    "lastSuccessfullyExecutedCode": "# Loading in required libraries\nimport pandas as pd\nimport seaborn as sns\nimport numpy as np"
   },
   "outputs": [],
   "source": [
    "# Loading in required libraries\n",
    "import pandas as pd\n",
    "import seaborn as sns\n",
    "import numpy as np"
   ]
  },
  {
   "cell_type": "code",
   "execution_count": 2,
   "id": "203461a4-54c5-437c-ace2-36d211672fc5",
   "metadata": {
    "executionCancelledAt": null,
    "executionTime": 67,
    "lastExecutedAt": 1705243394768,
    "lastScheduledRunId": null,
    "lastSuccessfullyExecutedCode": "nobel_df = pd.read_csv('data/nobel.csv')\nnobel_df",
    "outputsMetadata": {
     "0": {
      "height": 333,
      "type": "dataFrame"
     }
    }
   },
   "outputs": [
    {
     "data": {
      "text/html": [
       "<div>\n",
       "<style scoped>\n",
       "    .dataframe tbody tr th:only-of-type {\n",
       "        vertical-align: middle;\n",
       "    }\n",
       "\n",
       "    .dataframe tbody tr th {\n",
       "        vertical-align: top;\n",
       "    }\n",
       "\n",
       "    .dataframe thead th {\n",
       "        text-align: right;\n",
       "    }\n",
       "</style>\n",
       "<table border=\"1\" class=\"dataframe\">\n",
       "  <thead>\n",
       "    <tr style=\"text-align: right;\">\n",
       "      <th></th>\n",
       "      <th>year</th>\n",
       "      <th>category</th>\n",
       "      <th>prize</th>\n",
       "      <th>motivation</th>\n",
       "      <th>prize_share</th>\n",
       "      <th>laureate_id</th>\n",
       "      <th>laureate_type</th>\n",
       "      <th>full_name</th>\n",
       "      <th>birth_date</th>\n",
       "      <th>birth_city</th>\n",
       "      <th>birth_country</th>\n",
       "      <th>sex</th>\n",
       "      <th>organization_name</th>\n",
       "      <th>organization_city</th>\n",
       "      <th>organization_country</th>\n",
       "      <th>death_date</th>\n",
       "      <th>death_city</th>\n",
       "      <th>death_country</th>\n",
       "    </tr>\n",
       "  </thead>\n",
       "  <tbody>\n",
       "    <tr>\n",
       "      <th>0</th>\n",
       "      <td>1901</td>\n",
       "      <td>Chemistry</td>\n",
       "      <td>The Nobel Prize in Chemistry 1901</td>\n",
       "      <td>\"in recognition of the extraordinary services ...</td>\n",
       "      <td>1/1</td>\n",
       "      <td>160</td>\n",
       "      <td>Individual</td>\n",
       "      <td>Jacobus Henricus van 't Hoff</td>\n",
       "      <td>1852-08-30</td>\n",
       "      <td>Rotterdam</td>\n",
       "      <td>Netherlands</td>\n",
       "      <td>Male</td>\n",
       "      <td>Berlin University</td>\n",
       "      <td>Berlin</td>\n",
       "      <td>Germany</td>\n",
       "      <td>1911-03-01</td>\n",
       "      <td>Berlin</td>\n",
       "      <td>Germany</td>\n",
       "    </tr>\n",
       "    <tr>\n",
       "      <th>1</th>\n",
       "      <td>1901</td>\n",
       "      <td>Literature</td>\n",
       "      <td>The Nobel Prize in Literature 1901</td>\n",
       "      <td>\"in special recognition of his poetic composit...</td>\n",
       "      <td>1/1</td>\n",
       "      <td>569</td>\n",
       "      <td>Individual</td>\n",
       "      <td>Sully Prudhomme</td>\n",
       "      <td>1839-03-16</td>\n",
       "      <td>Paris</td>\n",
       "      <td>France</td>\n",
       "      <td>Male</td>\n",
       "      <td>NaN</td>\n",
       "      <td>NaN</td>\n",
       "      <td>NaN</td>\n",
       "      <td>1907-09-07</td>\n",
       "      <td>Châtenay</td>\n",
       "      <td>France</td>\n",
       "    </tr>\n",
       "    <tr>\n",
       "      <th>2</th>\n",
       "      <td>1901</td>\n",
       "      <td>Medicine</td>\n",
       "      <td>The Nobel Prize in Physiology or Medicine 1901</td>\n",
       "      <td>\"for his work on serum therapy, especially its...</td>\n",
       "      <td>1/1</td>\n",
       "      <td>293</td>\n",
       "      <td>Individual</td>\n",
       "      <td>Emil Adolf von Behring</td>\n",
       "      <td>1854-03-15</td>\n",
       "      <td>Hansdorf (Lawice)</td>\n",
       "      <td>Prussia (Poland)</td>\n",
       "      <td>Male</td>\n",
       "      <td>Marburg University</td>\n",
       "      <td>Marburg</td>\n",
       "      <td>Germany</td>\n",
       "      <td>1917-03-31</td>\n",
       "      <td>Marburg</td>\n",
       "      <td>Germany</td>\n",
       "    </tr>\n",
       "    <tr>\n",
       "      <th>3</th>\n",
       "      <td>1901</td>\n",
       "      <td>Peace</td>\n",
       "      <td>The Nobel Peace Prize 1901</td>\n",
       "      <td>NaN</td>\n",
       "      <td>1/2</td>\n",
       "      <td>462</td>\n",
       "      <td>Individual</td>\n",
       "      <td>Jean Henry Dunant</td>\n",
       "      <td>1828-05-08</td>\n",
       "      <td>Geneva</td>\n",
       "      <td>Switzerland</td>\n",
       "      <td>Male</td>\n",
       "      <td>NaN</td>\n",
       "      <td>NaN</td>\n",
       "      <td>NaN</td>\n",
       "      <td>1910-10-30</td>\n",
       "      <td>Heiden</td>\n",
       "      <td>Switzerland</td>\n",
       "    </tr>\n",
       "    <tr>\n",
       "      <th>4</th>\n",
       "      <td>1901</td>\n",
       "      <td>Peace</td>\n",
       "      <td>The Nobel Peace Prize 1901</td>\n",
       "      <td>NaN</td>\n",
       "      <td>1/2</td>\n",
       "      <td>463</td>\n",
       "      <td>Individual</td>\n",
       "      <td>Frédéric Passy</td>\n",
       "      <td>1822-05-20</td>\n",
       "      <td>Paris</td>\n",
       "      <td>France</td>\n",
       "      <td>Male</td>\n",
       "      <td>NaN</td>\n",
       "      <td>NaN</td>\n",
       "      <td>NaN</td>\n",
       "      <td>1912-06-12</td>\n",
       "      <td>Paris</td>\n",
       "      <td>France</td>\n",
       "    </tr>\n",
       "    <tr>\n",
       "      <th>...</th>\n",
       "      <td>...</td>\n",
       "      <td>...</td>\n",
       "      <td>...</td>\n",
       "      <td>...</td>\n",
       "      <td>...</td>\n",
       "      <td>...</td>\n",
       "      <td>...</td>\n",
       "      <td>...</td>\n",
       "      <td>...</td>\n",
       "      <td>...</td>\n",
       "      <td>...</td>\n",
       "      <td>...</td>\n",
       "      <td>...</td>\n",
       "      <td>...</td>\n",
       "      <td>...</td>\n",
       "      <td>...</td>\n",
       "      <td>...</td>\n",
       "      <td>...</td>\n",
       "    </tr>\n",
       "    <tr>\n",
       "      <th>995</th>\n",
       "      <td>2023</td>\n",
       "      <td>Chemistry</td>\n",
       "      <td>The Nobel Prize in Chemistry 2023</td>\n",
       "      <td>\"for the discovery and synthesis of quantum dots\"</td>\n",
       "      <td>1/3</td>\n",
       "      <td>1030</td>\n",
       "      <td>Individual</td>\n",
       "      <td>Louis Brus</td>\n",
       "      <td>1943-00-00</td>\n",
       "      <td>Cleveland, OH</td>\n",
       "      <td>United States of America</td>\n",
       "      <td>Male</td>\n",
       "      <td>Columbia University</td>\n",
       "      <td>New York, NY</td>\n",
       "      <td>United States of America</td>\n",
       "      <td>NaN</td>\n",
       "      <td>NaN</td>\n",
       "      <td>NaN</td>\n",
       "    </tr>\n",
       "    <tr>\n",
       "      <th>996</th>\n",
       "      <td>2023</td>\n",
       "      <td>Chemistry</td>\n",
       "      <td>The Nobel Prize in Chemistry 2023</td>\n",
       "      <td>\"for the discovery and synthesis of quantum dots\"</td>\n",
       "      <td>1/3</td>\n",
       "      <td>1031</td>\n",
       "      <td>Individual</td>\n",
       "      <td>Aleksey Yekimov</td>\n",
       "      <td>1945-00-00</td>\n",
       "      <td>NaN</td>\n",
       "      <td>USSR (now Russia)</td>\n",
       "      <td>Male</td>\n",
       "      <td>Nanocrystals Technology Inc.</td>\n",
       "      <td>New York, NY</td>\n",
       "      <td>United States of America</td>\n",
       "      <td>NaN</td>\n",
       "      <td>NaN</td>\n",
       "      <td>NaN</td>\n",
       "    </tr>\n",
       "    <tr>\n",
       "      <th>997</th>\n",
       "      <td>2023</td>\n",
       "      <td>Literature</td>\n",
       "      <td>The Nobel Prize in Literature 2023</td>\n",
       "      <td>\"for his innovative plays and prose which give...</td>\n",
       "      <td>1/1</td>\n",
       "      <td>1032</td>\n",
       "      <td>Individual</td>\n",
       "      <td>Jon Fosse</td>\n",
       "      <td>1959-09-29</td>\n",
       "      <td>Haugesund</td>\n",
       "      <td>Norway</td>\n",
       "      <td>Male</td>\n",
       "      <td>NaN</td>\n",
       "      <td>NaN</td>\n",
       "      <td>NaN</td>\n",
       "      <td>NaN</td>\n",
       "      <td>NaN</td>\n",
       "      <td>NaN</td>\n",
       "    </tr>\n",
       "    <tr>\n",
       "      <th>998</th>\n",
       "      <td>2023</td>\n",
       "      <td>Peace</td>\n",
       "      <td>The Nobel Peace Prize 2023</td>\n",
       "      <td>\"for her fight against the oppression of women...</td>\n",
       "      <td>1/1</td>\n",
       "      <td>1033</td>\n",
       "      <td>Individual</td>\n",
       "      <td>Narges Mohammadi</td>\n",
       "      <td>1972-04-21</td>\n",
       "      <td>Zanjan</td>\n",
       "      <td>Iran</td>\n",
       "      <td>Female</td>\n",
       "      <td>NaN</td>\n",
       "      <td>NaN</td>\n",
       "      <td>NaN</td>\n",
       "      <td>NaN</td>\n",
       "      <td>NaN</td>\n",
       "      <td>NaN</td>\n",
       "    </tr>\n",
       "    <tr>\n",
       "      <th>999</th>\n",
       "      <td>2023</td>\n",
       "      <td>Economics</td>\n",
       "      <td>The Sveriges Riksbank Prize in Economic Scienc...</td>\n",
       "      <td>\"for having advanced our understanding of wome...</td>\n",
       "      <td>1/1</td>\n",
       "      <td>1034</td>\n",
       "      <td>Individual</td>\n",
       "      <td>Claudia Goldin</td>\n",
       "      <td>1946-00-00</td>\n",
       "      <td>New York, NY</td>\n",
       "      <td>United States of America</td>\n",
       "      <td>Female</td>\n",
       "      <td>Harvard University</td>\n",
       "      <td>Cambridge, MA</td>\n",
       "      <td>United States of America</td>\n",
       "      <td>NaN</td>\n",
       "      <td>NaN</td>\n",
       "      <td>NaN</td>\n",
       "    </tr>\n",
       "  </tbody>\n",
       "</table>\n",
       "<p>1000 rows × 18 columns</p>\n",
       "</div>"
      ],
      "text/plain": [
       "     year    category                                              prize  \\\n",
       "0    1901   Chemistry                  The Nobel Prize in Chemistry 1901   \n",
       "1    1901  Literature                 The Nobel Prize in Literature 1901   \n",
       "2    1901    Medicine     The Nobel Prize in Physiology or Medicine 1901   \n",
       "3    1901       Peace                         The Nobel Peace Prize 1901   \n",
       "4    1901       Peace                         The Nobel Peace Prize 1901   \n",
       "..    ...         ...                                                ...   \n",
       "995  2023   Chemistry                  The Nobel Prize in Chemistry 2023   \n",
       "996  2023   Chemistry                  The Nobel Prize in Chemistry 2023   \n",
       "997  2023  Literature                 The Nobel Prize in Literature 2023   \n",
       "998  2023       Peace                         The Nobel Peace Prize 2023   \n",
       "999  2023   Economics  The Sveriges Riksbank Prize in Economic Scienc...   \n",
       "\n",
       "                                            motivation prize_share  \\\n",
       "0    \"in recognition of the extraordinary services ...         1/1   \n",
       "1    \"in special recognition of his poetic composit...         1/1   \n",
       "2    \"for his work on serum therapy, especially its...         1/1   \n",
       "3                                                  NaN         1/2   \n",
       "4                                                  NaN         1/2   \n",
       "..                                                 ...         ...   \n",
       "995  \"for the discovery and synthesis of quantum dots\"         1/3   \n",
       "996  \"for the discovery and synthesis of quantum dots\"         1/3   \n",
       "997  \"for his innovative plays and prose which give...         1/1   \n",
       "998  \"for her fight against the oppression of women...         1/1   \n",
       "999  \"for having advanced our understanding of wome...         1/1   \n",
       "\n",
       "     laureate_id laureate_type                     full_name  birth_date  \\\n",
       "0            160    Individual  Jacobus Henricus van 't Hoff  1852-08-30   \n",
       "1            569    Individual               Sully Prudhomme  1839-03-16   \n",
       "2            293    Individual        Emil Adolf von Behring  1854-03-15   \n",
       "3            462    Individual             Jean Henry Dunant  1828-05-08   \n",
       "4            463    Individual                Frédéric Passy  1822-05-20   \n",
       "..           ...           ...                           ...         ...   \n",
       "995         1030    Individual                    Louis Brus  1943-00-00   \n",
       "996         1031    Individual               Aleksey Yekimov  1945-00-00   \n",
       "997         1032    Individual                     Jon Fosse  1959-09-29   \n",
       "998         1033    Individual              Narges Mohammadi  1972-04-21   \n",
       "999         1034    Individual                Claudia Goldin  1946-00-00   \n",
       "\n",
       "            birth_city             birth_country     sex  \\\n",
       "0            Rotterdam               Netherlands    Male   \n",
       "1                Paris                    France    Male   \n",
       "2    Hansdorf (Lawice)          Prussia (Poland)    Male   \n",
       "3               Geneva               Switzerland    Male   \n",
       "4                Paris                    France    Male   \n",
       "..                 ...                       ...     ...   \n",
       "995      Cleveland, OH  United States of America    Male   \n",
       "996                NaN         USSR (now Russia)    Male   \n",
       "997          Haugesund                    Norway    Male   \n",
       "998             Zanjan                      Iran  Female   \n",
       "999       New York, NY  United States of America  Female   \n",
       "\n",
       "                organization_name organization_city      organization_country  \\\n",
       "0               Berlin University            Berlin                   Germany   \n",
       "1                             NaN               NaN                       NaN   \n",
       "2              Marburg University           Marburg                   Germany   \n",
       "3                             NaN               NaN                       NaN   \n",
       "4                             NaN               NaN                       NaN   \n",
       "..                            ...               ...                       ...   \n",
       "995           Columbia University      New York, NY  United States of America   \n",
       "996  Nanocrystals Technology Inc.      New York, NY  United States of America   \n",
       "997                           NaN               NaN                       NaN   \n",
       "998                           NaN               NaN                       NaN   \n",
       "999            Harvard University     Cambridge, MA  United States of America   \n",
       "\n",
       "     death_date death_city death_country  \n",
       "0    1911-03-01     Berlin       Germany  \n",
       "1    1907-09-07   Châtenay        France  \n",
       "2    1917-03-31    Marburg       Germany  \n",
       "3    1910-10-30     Heiden   Switzerland  \n",
       "4    1912-06-12      Paris        France  \n",
       "..          ...        ...           ...  \n",
       "995         NaN        NaN           NaN  \n",
       "996         NaN        NaN           NaN  \n",
       "997         NaN        NaN           NaN  \n",
       "998         NaN        NaN           NaN  \n",
       "999         NaN        NaN           NaN  \n",
       "\n",
       "[1000 rows x 18 columns]"
      ]
     },
     "execution_count": 2,
     "metadata": {},
     "output_type": "execute_result"
    }
   ],
   "source": [
    "nobel_df = pd.read_csv('./datasets/nobel.csv')\n",
    "nobel_df"
   ]
  },
  {
   "cell_type": "code",
   "execution_count": 3,
   "id": "3b0dec5d-0da8-442b-93ac-bfd229f62ad6",
   "metadata": {
    "executionCancelledAt": null,
    "executionTime": 48,
    "lastExecutedAt": 1705243394816,
    "lastScheduledRunId": null,
    "lastSuccessfullyExecutedCode": "# What is the most commonly awarded gender and birth country?\ntop_gender = nobel_df['sex'].value_counts().index.to_list()[0]\ntop_country = nobel_df['birth_country'].value_counts().index.to_list()[0]\nprint(f'top_gender: {top_gender}, top_country: {top_country}')",
    "outputsMetadata": {
     "0": {
      "height": 37,
      "type": "stream"
     }
    }
   },
   "outputs": [
    {
     "name": "stdout",
     "output_type": "stream",
     "text": [
      "top_gender: Male, top_country: United States of America\n"
     ]
    }
   ],
   "source": [
    "# What is the most commonly awarded gender and birth country?\n",
    "top_gender = nobel_df['sex'].value_counts().index.to_list()[0]\n",
    "top_country = nobel_df['birth_country'].value_counts().index.to_list()[0]\n",
    "print(f'top_gender: {top_gender}, top_country: {top_country}')"
   ]
  },
  {
   "cell_type": "code",
   "execution_count": 4,
   "id": "ff9744d4-a7f0-41f1-bb16-93111a567ade",
   "metadata": {
    "executionCancelledAt": null,
    "executionTime": 48,
    "lastExecutedAt": 1705243394864,
    "lastScheduledRunId": null,
    "lastSuccessfullyExecutedCode": "# What decade had the highest proportion of US-born winners?\nnobel_df['decade'] = pd.cut(nobel_df['year'],\n                            bins=range(1899,2030,10),\n                           labels=[d for d in range(1900, 2030, 10)])\nnobel_df_dec_birth = nobel_df.groupby('decade')['birth_country'].value_counts(normalize=True).loc[(slice(None),'United States of America')]\nmax_decade_usa = nobel_df_dec_birth.idxmax()\nmax_decade_usa ",
    "outputsMetadata": {
     "0": {
      "height": 318,
      "type": "dataFrame"
     }
    }
   },
   "outputs": [
    {
     "data": {
      "text/plain": [
       "2000"
      ]
     },
     "execution_count": 4,
     "metadata": {},
     "output_type": "execute_result"
    }
   ],
   "source": [
    "# What decade had the highest proportion of US-born winners?\n",
    "nobel_df['decade'] = pd.cut(nobel_df['year'],\n",
    "                            bins=range(1899,2030,10),\n",
    "                           labels=[d for d in range(1900, 2030, 10)])\n",
    "nobel_df_dec_birth = nobel_df.groupby('decade')['birth_country'].value_counts(normalize=True).loc[(slice(None),'United States of America')]\n",
    "max_decade_usa = nobel_df_dec_birth.idxmax()\n",
    "max_decade_usa"
   ]
  },
  {
   "cell_type": "code",
   "execution_count": 5,
   "id": "e114b5a2-d490-4d29-9210-cddcf5dd35f3",
   "metadata": {
    "executionCancelledAt": null,
    "executionTime": 50,
    "lastExecutedAt": 1705243442460,
    "lastScheduledRunId": null,
    "lastSuccessfullyExecutedCode": "# What decade and category pair had the highest proportion of female laureates?\nmax_female = nobel_df.groupby(['decade','category'])['sex'].value_counts(normalize=True).loc[(slice(None),slice(None),'Female')].idxmax()\nmax_female_dict = {max_female[0]:max_female[1]}",
    "outputsMetadata": {
     "0": {
      "height": 318,
      "type": "dataFrame"
     }
    }
   },
   "outputs": [
    {
     "data": {
      "text/plain": [
       "{2010: 'Peace'}"
      ]
     },
     "execution_count": 5,
     "metadata": {},
     "output_type": "execute_result"
    }
   ],
   "source": [
    "# What decade and category pair had the highest proportion of female laureates?\n",
    "max_female = nobel_df.groupby(['decade','category'])['sex'].value_counts(normalize=True).loc[(slice(None),slice(None),'Female')].idxmax()\n",
    "max_female_dict = {max_female[0]:max_female[1]}\n",
    "max_female_dict"
   ]
  },
  {
   "cell_type": "code",
   "execution_count": 6,
   "id": "27dfcd22-81be-4c97-845a-1ef440cd9ca7",
   "metadata": {
    "executionCancelledAt": null,
    "executionTime": 51,
    "lastExecutedAt": 1705243394967,
    "lastScheduledRunId": null,
    "lastSuccessfullyExecutedCode": "# Who was the first woman to receive a Nobel Prize, and in what category?\nfirst_woman = nobel_df[nobel_df['sex']=='Female'].sort_values(by='year').head(1)\nfirst_woman_name = first_woman['full_name'].iloc[0]\nfirst_woman_category = first_woman['category'].iloc[0]"
   },
   "outputs": [
    {
     "name": "stdout",
     "output_type": "stream",
     "text": [
      "The first woman was Marie Curie, née Sklodowska in the category of Physics\n"
     ]
    }
   ],
   "source": [
    "# Who was the first woman to receive a Nobel Prize, and in what category?\n",
    "first_woman = nobel_df[nobel_df['sex']=='Female'].sort_values(by='year').head(1)\n",
    "first_woman_name = first_woman['full_name'].iloc[0]\n",
    "first_woman_category = first_woman['category'].iloc[0]\n",
    "print(f'The first woman was {first_woman_name} in the category of {first_woman_category}')"
   ]
  },
  {
   "cell_type": "code",
   "execution_count": 7,
   "id": "3b5f8748-25b8-4869-a0b4-9ac02fe7e50e",
   "metadata": {
    "executionCancelledAt": null,
    "executionTime": 48,
    "lastExecutedAt": 1705243395016,
    "lastScheduledRunId": null,
    "lastSuccessfullyExecutedCode": "# Which individuals or organizations have won multiple Nobel Prizes throughout the years?\nn_nobels = nobel_df['full_name'].value_counts().reset_index().rename({'full_name':'n_nobels','index':'full_name'},axis=1)\nrepeat_list = n_nobels[n_nobels['n_nobels']>1]['full_name'].to_list()\nrepeat_list",
    "outputsMetadata": {
     "0": {
      "height": 318,
      "type": "dataFrame"
     }
    }
   },
   "outputs": [
    {
     "data": {
      "text/plain": [
       "['Comité international de la Croix Rouge (International Committee of the Red Cross)',\n",
       " 'Linus Carl Pauling',\n",
       " 'John Bardeen',\n",
       " 'Frederick Sanger',\n",
       " 'Marie Curie, née Sklodowska',\n",
       " 'Office of the United Nations High Commissioner for Refugees (UNHCR)']"
      ]
     },
     "execution_count": 7,
     "metadata": {},
     "output_type": "execute_result"
    }
   ],
   "source": [
    "# Which individuals or organizations have won multiple Nobel Prizes throughout the years?\n",
    "n_nobels = nobel_df['full_name'].value_counts().reset_index().rename({'full_name':'n_nobels','index':'full_name'},axis=1)\n",
    "repeat_list = n_nobels[n_nobels['n_nobels']>1]['full_name'].to_list()\n",
    "repeat_list"
   ]
  }
 ],
 "metadata": {
  "editor": "DataCamp Workspace",
  "kernelspec": {
   "display_name": "Python 3 (ipykernel)",
   "language": "python",
   "name": "python3"
  },
  "language_info": {
   "codemirror_mode": {
    "name": "ipython",
    "version": 3
   },
   "file_extension": ".py",
   "mimetype": "text/x-python",
   "name": "python",
   "nbconvert_exporter": "python",
   "pygments_lexer": "ipython3",
   "version": "3.9.12"
  }
 },
 "nbformat": 4,
 "nbformat_minor": 5
}
